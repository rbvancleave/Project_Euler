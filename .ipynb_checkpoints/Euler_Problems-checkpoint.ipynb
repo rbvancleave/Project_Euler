{
 "cells": [
  {
   "cell_type": "code",
   "execution_count": 1,
   "metadata": {},
   "outputs": [
    {
     "data": {
      "text/plain": [
       "233333166668"
      ]
     },
     "execution_count": 1,
     "metadata": {},
     "output_type": "execute_result"
    }
   ],
   "source": [
    "# Euler Problem 1\n",
    "multiples = set([])\n",
    "for i in range(1,1000000):\n",
    "    if i%3 == 0 or i%5 == 0:\n",
    "        multiples.add(i)\n",
    "sum(multiples)"
   ]
  },
  {
   "cell_type": "code",
   "execution_count": 2,
   "metadata": {},
   "outputs": [
    {
     "data": {
      "text/plain": [
       "4613732"
      ]
     },
     "execution_count": 2,
     "metadata": {},
     "output_type": "execute_result"
    }
   ],
   "source": [
    "#Euler problem 2\n",
    "multiples = [1,2,3,5,8]\n",
    "newlist = []\n",
    "while multiples[-1] < 4000000:\n",
    "    multiples[-1] + multiples[-2]\n",
    "    multiples.append(multiples[-1] + multiples[-2])\n",
    "multiples.pop()\n",
    "for i in multiples:\n",
    "    if i%2 == 0:\n",
    "        newlist.append(i)\n",
    "sum(newlist)"
   ]
  },
  {
   "cell_type": "code",
   "execution_count": 3,
   "metadata": {},
   "outputs": [
    {
     "name": "stdout",
     "output_type": "stream",
     "text": [
      "[71, 839, 1471, 6857]\n"
     ]
    }
   ],
   "source": [
    "#Euler Problem 3\n",
    "prob = 600851475143\n",
    "primes = [2,3]\n",
    "nums = range(3,prob,2)\n",
    "for x in nums:\n",
    "    if (prob/x)<x:\n",
    "        break\n",
    "    elif len([y for y in primes if x%y==0]) ==0 and prob%x==0:\n",
    "        primes.append(x)\n",
    "    else:\n",
    "        pass\n",
    "    \n",
    "factors = []\n",
    "\n",
    "for t in primes:\n",
    "    if prob%t==0:\n",
    "        factors.append(t)\n",
    "print(factors)"
   ]
  },
  {
   "cell_type": "code",
   "execution_count": 4,
   "metadata": {},
   "outputs": [
    {
     "data": {
      "text/plain": [
       "906609"
      ]
     },
     "execution_count": 4,
     "metadata": {},
     "output_type": "execute_result"
    }
   ],
   "source": [
    "#Euler Problem 4\n",
    "well =[]\n",
    "numbers = []\n",
    "r = range(100,999)\n",
    "x = 100\n",
    "while x < 1000:\n",
    "    for y in range(100,999):\n",
    "        if str(x*y) == str(x*y)[::-1]:\n",
    "            well.append(int(x)*int(y))\n",
    "            numbers.append((x,y))\n",
    "        elif str(x*y) != str(x*y)[::-1]:\n",
    "            pass\n",
    "    x = x+ 1\n",
    "max(well)"
   ]
  },
  {
   "cell_type": "code",
   "execution_count": 5,
   "metadata": {},
   "outputs": [
    {
     "name": "stdout",
     "output_type": "stream",
     "text": [
      "232792560\n"
     ]
    }
   ],
   "source": [
    "#Euler Problem 5\n",
    "for x in range(2520,300000000):\n",
    "    if x%19 == 0 and x%17==0 and x%16==0 and x%13 == 0 and x%11 == 0 and x%2520 == 0:\n",
    "        print(x)\n",
    "        break"
   ]
  },
  {
   "cell_type": "code",
   "execution_count": 6,
   "metadata": {},
   "outputs": [
    {
     "name": "stdout",
     "output_type": "stream",
     "text": [
      "25164150\n"
     ]
    }
   ],
   "source": [
    "#Euler Problem 6\n",
    "l = []\n",
    "for num in range(1,101):\n",
    "    l.append(num**2)\n",
    "l2 = []\n",
    "for num in range(1,101):\n",
    "    l2.append(num)\n",
    "sumofsquares = sum(l)\n",
    "squareofsums = (sum(l2))**2\n",
    "\n",
    "answer = squareofsums - sumofsquares\n",
    "print(answer)"
   ]
  },
  {
   "cell_type": "code",
   "execution_count": 7,
   "metadata": {},
   "outputs": [
    {
     "data": {
      "text/plain": [
       "104743"
      ]
     },
     "execution_count": 7,
     "metadata": {},
     "output_type": "execute_result"
    }
   ],
   "source": [
    "#Euler Problem 7\n",
    "prob = 105000\n",
    "primes = [2,3]\n",
    "nums = range(3,prob,2)\n",
    "for x in nums:\n",
    "    if len([y for y in primes if x%y==0]) ==0:\n",
    "        primes.append(x)\n",
    "    else:\n",
    "        pass\n",
    "primes[10000]"
   ]
  },
  {
   "cell_type": "code",
   "execution_count": 8,
   "metadata": {},
   "outputs": [
    {
     "data": {
      "text/plain": [
       "23514624000"
      ]
     },
     "execution_count": 8,
     "metadata": {},
     "output_type": "execute_result"
    }
   ],
   "source": [
    "#Euler Problem 8\n",
    "\n",
    "number = '73167176531330624919225119674426574742355349194934\\\n",
    "96983520312774506326239578318016984801869478851843\\\n",
    "85861560789112949495459501737958331952853208805511\\\n",
    "12540698747158523863050715693290963295227443043557\\\n",
    "66896648950445244523161731856403098711121722383113\\\n",
    "62229893423380308135336276614282806444486645238749\\\n",
    "30358907296290491560440772390713810515859307960866\\\n",
    "70172427121883998797908792274921901699720888093776\\\n",
    "65727333001053367881220235421809751254540594752243\\\n",
    "52584907711670556013604839586446706324415722155397\\\n",
    "53697817977846174064955149290862569321978468622482\\\n",
    "83972241375657056057490261407972968652414535100474\\\n",
    "82166370484403199890008895243450658541227588666881\\\n",
    "16427171479924442928230863465674813919123162824586\\\n",
    "17866458359124566529476545682848912883142607690042\\\n",
    "24219022671055626321111109370544217506941658960408\\\n",
    "07198403850962455444362981230987879927244284909188\\\n",
    "84580156166097919133875499200524063689912560717606\\\n",
    "05886116467109405077541002256983155200055935729725\\\n",
    "71636269561882670428252483600823257530420752963450'\n",
    "\n",
    "import re\n",
    "\n",
    "def product(l):\n",
    "    p = 1\n",
    "    for i in l:\n",
    "        p *= i\n",
    "    return p\n",
    "\n",
    "allpatterns = []\n",
    "\n",
    "for num in range(1,10):\n",
    "    pattern = ['.','.','.','.','.','.','.','.','.','.','.','.',num]\n",
    "    #allpatterns = []\n",
    "    for obj in pattern:\n",
    "        #print(pattern)\n",
    "        show = re.findall(str(pattern[0])+str(pattern[1])+str(pattern[2])+str(pattern[3])+str(pattern[4])\\\n",
    "                   +str(pattern[5])+str(pattern[6])+str(pattern[7])+str(pattern[8])+str(pattern[9])+str(pattern[10])\\\n",
    "                   +str(pattern[11])+str(pattern[12]),number)\n",
    "        #print(show)\n",
    "        allpatterns.append(show)\n",
    "        pattern.pop(0)\n",
    "        pattern.append('.')\n",
    "\n",
    "onelist = []\n",
    "for num in range(0,len(allpatterns)):\n",
    "    for x in allpatterns[num]:\n",
    "        onelist.append(x)\n",
    "\n",
    "splitdigits = []\n",
    "\n",
    "y = 0\n",
    "for digits in onelist:\n",
    "    res = [int(x) for x in onelist[y]]\n",
    "    splitdigits.append(res)\n",
    "    y += 1\n",
    "\n",
    "nozeros = []    \n",
    "for dg2 in splitdigits:\n",
    "    if 0 in dg2:\n",
    "        pass\n",
    "    else:\n",
    "        nozeros.append(dg2)\n",
    "\n",
    "pducts = []\n",
    "\n",
    "for ans in nozeros:\n",
    "    p = product(ans)\n",
    "    pducts.append(p)\n",
    "\n",
    "max(pducts)"
   ]
  },
  {
   "cell_type": "code",
   "execution_count": 9,
   "metadata": {},
   "outputs": [
    {
     "name": "stdout",
     "output_type": "stream",
     "text": [
      "200\n",
      "375\n",
      "425\n",
      "answer:\n",
      "31875000\n"
     ]
    }
   ],
   "source": [
    "#Euler Problem 9\n",
    "def pythag(a,b):\n",
    "    ceesq = (a**2)+(b**2)\n",
    "    if (ceesq**.5)%1==0:\n",
    "        result = a+b+(ceesq**.5)\n",
    "        return result\n",
    "    else:\n",
    "        result = a+b+(ceesq**.5)\n",
    "        return result\n",
    "\n",
    "hhh = []\n",
    "for num in range(1,1001):\n",
    "    hhh.append(num)\n",
    "\n",
    "nums = []\n",
    "whyyy = 0\n",
    "while whyyy <1000:\n",
    "    for num in range(1,1001):\n",
    "        if pythag(num,hhh[whyyy]) == 1000.00:\n",
    "            nums.append(num)\n",
    "        else:\n",
    "            pass\n",
    "    whyyy += 1\n",
    "nums\n",
    "if nums[0] > nums[1]:\n",
    "    a = nums[1]\n",
    "    b = nums[0]\n",
    "else:\n",
    "    a = nums[0]\n",
    "    b = nums[1]\n",
    "    \n",
    "\n",
    "c = 1000-a-b\n",
    "print(a)\n",
    "print(b)\n",
    "print(c)\n",
    "print('answer:')\n",
    "print(a*b*c)"
   ]
  },
  {
   "cell_type": "code",
   "execution_count": 10,
   "metadata": {},
   "outputs": [
    {
     "data": {
      "text/plain": [
       "'prob = 2000000\\nprimes = [2,3,5,7,11,13,17,19,23,29,31,37,41,43,47,53,59,61,67,71,73,79,83,89,97]\\nnums = range(3,prob,2)\\nfor x in nums:\\n    if x%10==5:\\n        continue\\n    elif x**.5==0:\\n        continue\\n    #elif x in notpri:\\n        #continue\\n    elif x%3==0 or x%5==0 or x%7==0 or x%11==0 or x%13==0 or x%17==0 or x%19==0 or x%23==0 or x%29==0:\\n        continue\\n    elif len([y for y in primes if x%y==0]) ==0:\\n        primes.append(x)\\n    else:\\n        pass\\n\\nsum(primes)\\n\\nanswer = 142913828922\\n'"
      ]
     },
     "execution_count": 10,
     "metadata": {},
     "output_type": "execute_result"
    }
   ],
   "source": [
    "#Euler Problem 10\n",
    "\n",
    "'''prob = 2000000\n",
    "primes = [2,3,5,7,11,13,17,19,23,29,31,37,41,43,47,53,59,61,67,71,73,79,83,89,97]\n",
    "nums = range(3,prob,2)\n",
    "for x in nums:\n",
    "    if x%10==5:\n",
    "        continue\n",
    "    elif x**.5==0:\n",
    "        continue\n",
    "    #elif x in notpri:\n",
    "        #continue\n",
    "    elif x%3==0 or x%5==0 or x%7==0 or x%11==0 or x%13==0 or x%17==0 or x%19==0 or x%23==0 or x%29==0:\n",
    "        continue\n",
    "    elif len([y for y in primes if x%y==0]) ==0:\n",
    "        primes.append(x)\n",
    "    else:\n",
    "        pass\n",
    "\n",
    "sum(primes)\n",
    "\n",
    "answer = 142913828922\n",
    "'''\n"
   ]
  },
  {
   "cell_type": "code",
   "execution_count": 11,
   "metadata": {},
   "outputs": [
    {
     "name": "stdout",
     "output_type": "stream",
     "text": [
      "Max Row of 4:\n",
      "48477312\n",
      "Max Column of 4:\n",
      "51267216\n",
      "Max Forward Diagonal of 4:\n",
      "40304286\n",
      "Max Backward Diagonal of 4:\n",
      "70600674\n"
     ]
    }
   ],
   "source": [
    "#Euler Problem 11\n",
    "num = '08 02 22 97 38 15 00 40 00 75 04 05 07 78 52 12 50 77 91 08 \\\n",
    "49 49 99 40 17 81 18 57 60 87 17 40 98 43 69 48 04 56 62 00 \\\n",
    "81 49 31 73 55 79 14 29 93 71 40 67 53 88 30 03 49 13 36 65 \\\n",
    "52 70 95 23 04 60 11 42 69 24 68 56 01 32 56 71 37 02 36 91 \\\n",
    "22 31 16 71 51 67 63 89 41 92 36 54 22 40 40 28 66 33 13 80 \\\n",
    "24 47 32 60 99 03 45 02 44 75 33 53 78 36 84 20 35 17 12 50 \\\n",
    "32 98 81 28 64 23 67 10 26 38 40 67 59 54 70 66 18 38 64 70 \\\n",
    "67 26 20 68 02 62 12 20 95 63 94 39 63 08 40 91 66 49 94 21 \\\n",
    "24 55 58 05 66 73 99 26 97 17 78 78 96 83 14 88 34 89 63 72 \\\n",
    "21 36 23 09 75 00 76 44 20 45 35 14 00 61 33 97 34 31 33 95 \\\n",
    "78 17 53 28 22 75 31 67 15 94 03 80 04 62 16 14 09 53 56 92 \\\n",
    "16 39 05 42 96 35 31 47 55 58 88 24 00 17 54 24 36 29 85 57 \\\n",
    "86 56 00 48 35 71 89 07 05 44 44 37 44 60 21 58 51 54 17 58 \\\n",
    "19 80 81 68 05 94 47 69 28 73 92 13 86 52 17 77 04 89 55 40 \\\n",
    "04 52 08 83 97 35 99 16 07 97 57 32 16 26 26 79 33 27 98 66 \\\n",
    "88 36 68 87 57 62 20 72 03 46 33 67 46 55 12 32 63 93 53 69 \\\n",
    "04 42 16 73 38 25 39 11 24 94 72 18 08 46 29 32 40 62 76 36 \\\n",
    "20 69 36 41 72 30 23 88 34 62 99 69 82 67 59 85 74 04 36 16 \\\n",
    "20 73 35 29 78 31 90 01 74 31 49 71 48 86 81 16 23 57 05 54 \\\n",
    "01 70 54 71 83 51 54 69 16 92 33 48 61 43 52 01 89 19 67 48'\n",
    "\n",
    "numsplit = num.split()\n",
    "\n",
    "# Collumns\n",
    "coloptions = []\n",
    "for x in range(0,340):\n",
    "    c = (x,x+20,x+40,x+60)\n",
    "    coloptions.append(c)\n",
    "# --------------------------------------------------------------------------------------------------------------    \n",
    "# Rows\n",
    "rop = []\n",
    "for x in range(0,397):\n",
    "    r = (x,x+1,x+2,x+3)\n",
    "    rop.append(r)\n",
    "    \n",
    "nogo = [17,18,19,37,38,39,57,58,59,77,78,79,97,98,99,117,118,119,137,138,139,157,158,159,177,178,179,197,198,199,\n",
    "        217,218,219,237,238,239,257,258,259,277,278,279,297,298,299,\n",
    "        317,318,319,337,338,339,357,358,359,377,378,379,397,398,399]\n",
    "\n",
    "rowoptions = [x for x in rop if x[0] not in nogo]\n",
    "# -------------------------------------------------------------------------------------------------------------- \n",
    "# F Diagonal\n",
    "forward_d = []\n",
    "for x in range(0,340):\n",
    "    c = (x,x+21,x+42,x+63)\n",
    "    forward_d.append(c)\n",
    "\n",
    "len(forward_d)\n",
    "    \n",
    "nogo = [17,18,19,37,38,39,57,58,59,77,78,79,97,98,99,117,118,119,137,138,139,157,158,159,177,178,179,197,198,199,\n",
    "        217,218,219,237,238,239,257,258,259,277,278,279,297,298,299,\n",
    "        317,318,319,337,338,339,357,358,359,377,378,379,397,398,399]\n",
    "\n",
    "forward_d = [x for x in forward_d if x[0] not in nogo]\n",
    "# -------------------------------------------------------------------------------------------------------------- \n",
    "# B Diagonal\n",
    "backward_d = []\n",
    "for x in range(0,340):\n",
    "    c = (x,x+19,x+38,x+57)\n",
    "    backward_d.append(c)\n",
    "\n",
    "len(backward_d)\n",
    "    \n",
    "nogo2 = [0,1,2,20,21,22,40,41,42,60,61,62,80,81,82,100,101,102,120,121,122,140,141,142,160,161,162,180,181,182,\n",
    "        200,201,202,220,221,222,240,241,242,260,261,262,280,281,282,300,301,302,320,321,322,340,341,342,360,361,362,\n",
    "        380,381,382]\n",
    "\n",
    "backward_d = [x for x in backward_d if x[0] not in nogo2]\n",
    "\n",
    "# -------------------------------------------------------------------------------------------------------------- \n",
    "\n",
    "# Product Maxes\n",
    "rowtotals = []\n",
    "for i in rowoptions:\n",
    "    prod = (int(numsplit[i[0]])*int(numsplit[i[1]])*int(numsplit[i[2]])*int(numsplit[i[3]]))\n",
    "    rowtotals.append(prod)\n",
    "\n",
    "print('Max Row of 4:')\n",
    "print(max(rowtotals))\n",
    "\n",
    "coltotals = []\n",
    "for i in coloptions:\n",
    "    prod = (int(numsplit[i[0]])*int(numsplit[i[1]])*int(numsplit[i[2]])*int(numsplit[i[3]]))\n",
    "    coltotals.append(prod)\n",
    "\n",
    "print('Max Column of 4:')\n",
    "print(max(coltotals))\n",
    "\n",
    "fortotals = []\n",
    "for i in forward_d:\n",
    "    prod = (int(numsplit[i[0]])*int(numsplit[i[1]])*int(numsplit[i[2]])*int(numsplit[i[3]]))\n",
    "    fortotals.append(prod)\n",
    "\n",
    "print('Max Forward Diagonal of 4:')\n",
    "print(max(fortotals))\n",
    "\n",
    "backtotals = []\n",
    "for i in backward_d:\n",
    "    prod = (int(numsplit[i[0]])*int(numsplit[i[1]])*int(numsplit[i[2]])*int(numsplit[i[3]]))\n",
    "    backtotals.append(prod)\n",
    "\n",
    "print('Max Backward Diagonal of 4:')\n",
    "print(max(backtotals))"
   ]
  },
  {
   "cell_type": "code",
   "execution_count": 12,
   "metadata": {},
   "outputs": [
    {
     "name": "stdout",
     "output_type": "stream",
     "text": [
      "the number is 76576500\n"
     ]
    }
   ],
   "source": [
    "#Euler Probelm 12\n",
    "\n",
    "def factorizer(number):\n",
    "\n",
    "    b = number\n",
    "    n = number\n",
    "\n",
    "    factors = set({1,n})\n",
    "    for num in range(2,10001):\n",
    "        n = b\n",
    "        while n%num==0 and n!=num:\n",
    "            n = n/num\n",
    "            factors.add(n)\n",
    "\n",
    "    n = b  \n",
    "    factors2 = set()\n",
    "    for item in factors:\n",
    "        m = n/item\n",
    "        factors2.add(m)\n",
    "\n",
    "    return(len(factors.union(factors2)))\n",
    "\n",
    "t = [1,3,6,10,15,21,28]\n",
    "x = 0\n",
    "\n",
    "while x < 100000:\n",
    "    next_num = t[-1]+len(t)+1\n",
    "    t.append(next_num)\n",
    "    x +=1\n",
    "\n",
    "for i in t[9999:]:\n",
    "    if factorizer(i) > 500:\n",
    "        print(f'the number is {i}')\n",
    "        break\n",
    "    else:\n",
    "        pass"
   ]
  },
  {
   "cell_type": "code",
   "execution_count": 13,
   "metadata": {},
   "outputs": [
    {
     "name": "stdout",
     "output_type": "stream",
     "text": [
      "5537376230390876637302048746832985971773659831892672\n",
      "5537376230\n"
     ]
    }
   ],
   "source": [
    "#Euler Problem 13\n",
    "\n",
    "num = '37107287533902102798797998220837590246510135740250\\\n",
    "46376937677490009712648124896970078050417018260538\\\n",
    "74324986199524741059474233309513058123726617309629\\\n",
    "91942213363574161572522430563301811072406154908250\\\n",
    "23067588207539346171171980310421047513778063246676\\\n",
    "89261670696623633820136378418383684178734361726757\\\n",
    "28112879812849979408065481931592621691275889832738\\\n",
    "44274228917432520321923589422876796487670272189318\\\n",
    "47451445736001306439091167216856844588711603153276\\\n",
    "70386486105843025439939619828917593665686757934951\\\n",
    "62176457141856560629502157223196586755079324193331\\\n",
    "64906352462741904929101432445813822663347944758178\\\n",
    "92575867718337217661963751590579239728245598838407\\\n",
    "58203565325359399008402633568948830189458628227828\\\n",
    "80181199384826282014278194139940567587151170094390\\\n",
    "35398664372827112653829987240784473053190104293586\\\n",
    "86515506006295864861532075273371959191420517255829\\\n",
    "71693888707715466499115593487603532921714970056938\\\n",
    "54370070576826684624621495650076471787294438377604\\\n",
    "53282654108756828443191190634694037855217779295145\\\n",
    "36123272525000296071075082563815656710885258350721\\\n",
    "45876576172410976447339110607218265236877223636045\\\n",
    "17423706905851860660448207621209813287860733969412\\\n",
    "81142660418086830619328460811191061556940512689692\\\n",
    "51934325451728388641918047049293215058642563049483\\\n",
    "62467221648435076201727918039944693004732956340691\\\n",
    "15732444386908125794514089057706229429197107928209\\\n",
    "55037687525678773091862540744969844508330393682126\\\n",
    "18336384825330154686196124348767681297534375946515\\\n",
    "80386287592878490201521685554828717201219257766954\\\n",
    "78182833757993103614740356856449095527097864797581\\\n",
    "16726320100436897842553539920931837441497806860984\\\n",
    "48403098129077791799088218795327364475675590848030\\\n",
    "87086987551392711854517078544161852424320693150332\\\n",
    "59959406895756536782107074926966537676326235447210\\\n",
    "69793950679652694742597709739166693763042633987085\\\n",
    "41052684708299085211399427365734116182760315001271\\\n",
    "65378607361501080857009149939512557028198746004375\\\n",
    "35829035317434717326932123578154982629742552737307\\\n",
    "94953759765105305946966067683156574377167401875275\\\n",
    "88902802571733229619176668713819931811048770190271\\\n",
    "25267680276078003013678680992525463401061632866526\\\n",
    "36270218540497705585629946580636237993140746255962\\\n",
    "24074486908231174977792365466257246923322810917141\\\n",
    "91430288197103288597806669760892938638285025333403\\\n",
    "34413065578016127815921815005561868836468420090470\\\n",
    "23053081172816430487623791969842487255036638784583\\\n",
    "11487696932154902810424020138335124462181441773470\\\n",
    "63783299490636259666498587618221225225512486764533\\\n",
    "67720186971698544312419572409913959008952310058822\\\n",
    "95548255300263520781532296796249481641953868218774\\\n",
    "76085327132285723110424803456124867697064507995236\\\n",
    "37774242535411291684276865538926205024910326572967\\\n",
    "23701913275725675285653248258265463092207058596522\\\n",
    "29798860272258331913126375147341994889534765745501\\\n",
    "18495701454879288984856827726077713721403798879715\\\n",
    "38298203783031473527721580348144513491373226651381\\\n",
    "34829543829199918180278916522431027392251122869539\\\n",
    "40957953066405232632538044100059654939159879593635\\\n",
    "29746152185502371307642255121183693803580388584903\\\n",
    "41698116222072977186158236678424689157993532961922\\\n",
    "62467957194401269043877107275048102390895523597457\\\n",
    "23189706772547915061505504953922979530901129967519\\\n",
    "86188088225875314529584099251203829009407770775672\\\n",
    "11306739708304724483816533873502340845647058077308\\\n",
    "82959174767140363198008187129011875491310547126581\\\n",
    "97623331044818386269515456334926366572897563400500\\\n",
    "42846280183517070527831839425882145521227251250327\\\n",
    "55121603546981200581762165212827652751691296897789\\\n",
    "32238195734329339946437501907836945765883352399886\\\n",
    "75506164965184775180738168837861091527357929701337\\\n",
    "62177842752192623401942399639168044983993173312731\\\n",
    "32924185707147349566916674687634660915035914677504\\\n",
    "99518671430235219628894890102423325116913619626622\\\n",
    "73267460800591547471830798392868535206946944540724\\\n",
    "76841822524674417161514036427982273348055556214818\\\n",
    "97142617910342598647204516893989422179826088076852\\\n",
    "87783646182799346313767754307809363333018982642090\\\n",
    "10848802521674670883215120185883543223812876952786\\\n",
    "71329612474782464538636993009049310363619763878039\\\n",
    "62184073572399794223406235393808339651327408011116\\\n",
    "66627891981488087797941876876144230030984490851411\\\n",
    "60661826293682836764744779239180335110989069790714\\\n",
    "85786944089552990653640447425576083659976645795096\\\n",
    "66024396409905389607120198219976047599490197230297\\\n",
    "64913982680032973156037120041377903785566085089252\\\n",
    "16730939319872750275468906903707539413042652315011\\\n",
    "94809377245048795150954100921645863754710598436791\\\n",
    "78639167021187492431995700641917969777599028300699\\\n",
    "15368713711936614952811305876380278410754449733078\\\n",
    "40789923115535562561142322423255033685442488917353\\\n",
    "44889911501440648020369068063960672322193204149535\\\n",
    "41503128880339536053299340368006977710650566631954\\\n",
    "81234880673210146739058568557934581403627822703280\\\n",
    "82616570773948327592232845941706525094512325230608\\\n",
    "22918802058777319719839450180888072429661980811197\\\n",
    "77158542502016545090413245809786882778948721859617\\\n",
    "72107838435069186155435662884062257473692284509516\\\n",
    "20849603980134001723930671666823555245252804609722\\\n",
    "53503534226472524250874054075591789781264330331690'\n",
    "\n",
    "x = 0\n",
    "n = 0\n",
    "nums = []\n",
    "\n",
    "while n <100:\n",
    "    new = ''.join(num[x:x+50].split())\n",
    "    nums.append(int(new))\n",
    "    x += 50\n",
    "    n += 1\n",
    "    \n",
    "s = 0\n",
    "\n",
    "for i in nums:\n",
    "    s = i + s\n",
    "\n",
    "print(s)\n",
    "s = str(s)\n",
    "print(s[:10])"
   ]
  },
  {
   "cell_type": "code",
   "execution_count": 14,
   "metadata": {},
   "outputs": [
    {
     "name": "stdout",
     "output_type": "stream",
     "text": [
      "525\n",
      "837799\n"
     ]
    }
   ],
   "source": [
    "#Euler Problem 14\n",
    "def seq(x):\n",
    "    count = 1\n",
    "    while x != 1:\n",
    "        if x%2==0:\n",
    "            x = x/2\n",
    "            count +=1   \n",
    "        else:\n",
    "            x = (3*x)+1\n",
    "            count +=1\n",
    "    return count\n",
    "\n",
    "max_num = 1\n",
    "answer = 1\n",
    "\n",
    "for num in range(1,1000000):\n",
    "    if seq(num) > max_num:\n",
    "        max_num = seq(num)\n",
    "        answer = num\n",
    "    else:\n",
    "        pass\n",
    "\n",
    "print(max_num)\n",
    "print(answer)"
   ]
  },
  {
   "cell_type": "code",
   "execution_count": 15,
   "metadata": {},
   "outputs": [
    {
     "name": "stdout",
     "output_type": "stream",
     "text": [
      "answer is: 137846528820\n"
     ]
    }
   ],
   "source": [
    "#Euler Problem 15\n",
    "\n",
    "col1 = [1,1,1,1,1,1,1,1,1,1,1,1,1,1,1,1,1,1,1,1,1]\n",
    "\n",
    "col2 = [1]\n",
    "for i in range(1,21):\n",
    "    col2.append(col2[i-1]+col1[i])\n",
    "\n",
    "col3 = [1]\n",
    "for i in range(1,21):\n",
    "    col3.append(col3[i-1]+col2[i])\n",
    "\n",
    "col4 = [1]\n",
    "for i in range(1,21):\n",
    "    col4.append(col4[i-1]+col3[i])\n",
    "\n",
    "col5 = [1]\n",
    "for i in range(1,21):\n",
    "    col5.append(col5[i-1]+col4[i])\n",
    "\n",
    "col6 = [1]\n",
    "for i in range(1,21):\n",
    "    col6.append(col6[i-1]+col5[i])\n",
    "\n",
    "col7 = [1]\n",
    "for i in range(1,21):\n",
    "    col7.append(col7[i-1]+col6[i])\n",
    "\n",
    "col8 = [1]\n",
    "for i in range(1,21):\n",
    "    col8.append(col8[i-1]+col7[i])\n",
    "\n",
    "col9 = [1]\n",
    "for i in range(1,21):\n",
    "    col9.append(col9[i-1]+col8[i])\n",
    "\n",
    "col10 = [1]\n",
    "for i in range(1,21):\n",
    "    col10.append(col10[i-1]+col9[i])\n",
    "\n",
    "col11 = [1]\n",
    "for i in range(1,21):\n",
    "    col11.append(col11[i-1]+col10[i])\n",
    "\n",
    "col12 = [1]\n",
    "for i in range(1,21):\n",
    "    col12.append(col12[i-1]+col11[i])\n",
    "\n",
    "col13 = [1]\n",
    "for i in range(1,21):\n",
    "    col13.append(col13[i-1]+col12[i])\n",
    "\n",
    "col14 = [1]\n",
    "for i in range(1,21):\n",
    "    col14.append(col14[i-1]+col13[i])\n",
    "\n",
    "col15 = [1]\n",
    "for i in range(1,21):\n",
    "    col15.append(col15[i-1]+col14[i])\n",
    "\n",
    "col16 = [1]\n",
    "for i in range(1,21):\n",
    "    col16.append(col16[i-1]+col15[i])\n",
    "\n",
    "col17 = [1]\n",
    "for i in range(1,21):\n",
    "    col17.append(col17[i-1]+col16[i])\n",
    "\n",
    "col18 = [1]\n",
    "for i in range(1,21):\n",
    "    col18.append(col18[i-1]+col17[i])\n",
    "\n",
    "col19 = [1]\n",
    "for i in range(1,21):\n",
    "    col19.append(col19[i-1]+col18[i])\n",
    "\n",
    "col20 = [1]\n",
    "for i in range(1,21):\n",
    "    col20.append(col20[i-1]+col19[i])\n",
    "\n",
    "col21 = [1]\n",
    "for i in range(1,21):\n",
    "    col21.append(col21[i-1]+col20[i])\n",
    "\n",
    "print(f'answer is: {col21[20]}')"
   ]
  },
  {
   "cell_type": "code",
   "execution_count": 16,
   "metadata": {},
   "outputs": [
    {
     "data": {
      "text/plain": [
       "1366"
      ]
     },
     "execution_count": 16,
     "metadata": {},
     "output_type": "execute_result"
    }
   ],
   "source": [
    "#Euler Problem 16\n",
    "\n",
    "number = str(2**1000)\n",
    "digits = []\n",
    "for num in number:\n",
    "    digits.append(int(num))\n",
    "\n",
    "answer = 0\n",
    "for dig in digits:\n",
    "    answer = answer + dig\n",
    "\n",
    "answer"
   ]
  },
  {
   "cell_type": "code",
   "execution_count": 17,
   "metadata": {},
   "outputs": [
    {
     "data": {
      "text/plain": [
       "21124"
      ]
     },
     "execution_count": 17,
     "metadata": {},
     "output_type": "execute_result"
    }
   ],
   "source": [
    "#Euler Project 17\n",
    "\n",
    "dictionary = {'1':'one','2':'two','3':'three','4':'four','5':'five','6':'six','7':'seven','8':'eight','9':'nine','10':'ten',\n",
    "        '11':'eleven','12':'twelve','13':'thirteen','14':'fourteen','15':'fifteen','16':'sixteen','17':'seventeen',\n",
    "         '18':'eighteen','19':'nineteen','20':'twenty','30':'thirty','40':'forty','50':'fifty','60':'sixty','70':'seventy',\n",
    "        '80':'eighty','90':'ninety'}\n",
    "\n",
    "def spell(n):\n",
    "\n",
    "    num = str(n)\n",
    "    if num in dictionary:\n",
    "        return dictionary[num]\n",
    "    else:\n",
    "        if n < 100:\n",
    "            two = dictionary[num[0]+'0']\n",
    "            three = dictionary[num[-1]]\n",
    "            return two+''+three\n",
    "        else:\n",
    "            if num[-2:] == '00':\n",
    "                \n",
    "                one = dictionary[num[0]]\n",
    "                return one +''+'hundred'\n",
    "            \n",
    "            else:\n",
    "                one = dictionary[num[0]]\n",
    "                num = str(n - (int(num[0])*100))\n",
    "                if num in dictionary:\n",
    "                    two = dictionary[num]\n",
    "                    return one+''+'hundred'+'and'+two\n",
    "                else:\n",
    "                    two = dictionary[num[0]+'0']\n",
    "                    three = dictionary[num[-1]]\n",
    "                    return one+''+'hundred'+'and'+two+''+three\n",
    "        \n",
    "        \n",
    "total = 0\n",
    "onethousand = len('onethousand')\n",
    "for i in range(1,1000):\n",
    "    total = total + len(spell(i))\n",
    "total + onethousand"
   ]
  },
  {
   "cell_type": "code",
   "execution_count": 18,
   "metadata": {},
   "outputs": [
    {
     "data": {
      "text/plain": [
       "1074"
      ]
     },
     "execution_count": 18,
     "metadata": {},
     "output_type": "execute_result"
    }
   ],
   "source": [
    "#Euler Project 18\n",
    "\n",
    "row15 = [75, 0, 0, 0, 0, 0, 0, 0, 0, 0, 0, 0, 0, 0, 0]\n",
    "row14 = [95,64, 0, 0, 0, 0, 0, 0, 0, 0, 0, 0, 0, 0, 0]\n",
    "row13 = [17,47,82, 0, 0, 0, 0, 0, 0, 0, 0, 0, 0, 0, 0]\n",
    "row12 = [18,35,87,10, 0, 0, 0, 0, 0, 0, 0, 0, 0, 0, 0]\n",
    "row11 = [20,4,82,47,65, 0, 0, 0, 0, 0, 0, 0, 0, 0, 0]\n",
    "row10 = [19,1,23,75,3,34, 0, 0, 0, 0, 0, 0, 0, 0, 0]\n",
    "row9 = [88,2,77,73,7,63,67, 0, 0, 0, 0, 0, 0, 0, 0]\n",
    "row8 = [99,65,4,28,6,16,70,92, 0, 0, 0, 0, 0, 0, 0]\n",
    "row7 = [41,41,26,56,83,40,80,70,33, 0, 0, 0, 0, 0, 0]\n",
    "row6 = [41,48,72,33,47,32,37,16,94,29, 0, 0, 0, 0, 0]\n",
    "row5 = [53,71,44,65,25,43,91,52,97,51,14, 0, 0, 0, 0]\n",
    "row4 = [70,11,33,28,77,73,17,78,39,68,17,57, 0, 0, 0]\n",
    "row3 = [91,71,52,38,17,14,91,43,58,50,27,29,48, 0, 0]\n",
    "row2 = [63,66,4,68,89,53,67,30,73,16,69,87,40,31, 0]\n",
    "row1 = [4,62,98,27,23,9,70,98,73,93,38,53,60,4,23]\n",
    "\n",
    "bunch = {15:row15,14:row14,13:row13,12:row12,11:row11,10:row10,9:row9,8:row8,7:row7,6:row6,5:row5,4:row4,3:row3,\n",
    "        2:row2,1:row1}\n",
    "\n",
    "triangle = []\n",
    "\n",
    "for k,v in bunch.items():\n",
    "    triangle.append(v)\n",
    "triangle\n",
    "\n",
    "# number of lists (i.e. rows) in triangle\n",
    "m = 14\n",
    "\n",
    "# i starts at 13 and goes to 0 (step of -1)\n",
    "\n",
    "for i in range(m-1, -1, -1): \n",
    "#     print(f'row: {i}')\n",
    "\n",
    "# number in range 0 to i    \n",
    "    \n",
    "    for j in range(i+1):\n",
    "\n",
    "# if triangle[14][0] > triangle[14][1]:\n",
    "#    triangle[13][0] += triangle[14][0]\n",
    "# else:\n",
    "#    triangle[13][0] += triangle[14][1]\n",
    "    \n",
    "        \n",
    "        if (triangle[i+1][j] > triangle[i+1][j+1]):\n",
    "            triangle[i][j] += triangle[i+1][j]\n",
    "        else:\n",
    "            triangle[i][j] += triangle[i+1][j+1]\n",
    "        \n",
    "#         print(triangle[i][j])\n",
    "    \n",
    "#     print('------------------------------')\n",
    "        \n",
    "triangle[0][0]"
   ]
  },
  {
   "cell_type": "code",
   "execution_count": 19,
   "metadata": {},
   "outputs": [
    {
     "data": {
      "text/plain": [
       "171"
      ]
     },
     "execution_count": 19,
     "metadata": {},
     "output_type": "execute_result"
    }
   ],
   "source": [
    "#Euler Project 19\n",
    "\n",
    "month_names = ['dec','nov','octo','sep','aug','jul','jun','may','apr','mar','feb','jan']\n",
    "\n",
    "mark = 2\n",
    "\n",
    "year = 1901\n",
    "days = 0\n",
    "suns = 0\n",
    "\n",
    "while year < 2001:\n",
    "    \n",
    "    jan = 31\n",
    "    #feb = 28\n",
    "    mar = 31\n",
    "    apr = 30\n",
    "    may = 31\n",
    "    jun = 30\n",
    "    jul = 31\n",
    "    aug = 31\n",
    "    sep = 30\n",
    "    octo = 31\n",
    "    nov = 30\n",
    "    dec = 31\n",
    "    \n",
    "    if year%4 == 0:\n",
    "        feb = 29\n",
    "    else:\n",
    "        feb = 28\n",
    "    \n",
    "    year_total = jan+feb+mar+apr+may+jun+jul+aug+sep+octo+nov+dec\n",
    "\n",
    "    sundays = 0\n",
    "    dow = []\n",
    "    months = [dec,nov,octo,sep,aug,jul,jun,may,apr,mar,feb,jan]\n",
    "\n",
    "    for i in range(1,year_total+1):\n",
    "        if mark + 1 == 8:\n",
    "            mark = 1\n",
    "            dow.append(mark)\n",
    "        else:\n",
    "            mark = mark + 1\n",
    "            dow.append(mark)\n",
    "    \n",
    "    month_start_day = []\n",
    "    \n",
    "    for i in range(0,12):\n",
    "        \n",
    "        month_start_day.append(year_total-sum(months[0:i+1])+1)\n",
    "    \n",
    "    for i in range(0,12):\n",
    "        check = month_start_day[i]\n",
    "        \n",
    "        if dow[check-1] == 1:\n",
    "            suns += 1\n",
    "            #print(str(year)+'-'+month_names[i-1])\n",
    "            #print(month_start_day)\n",
    "            \n",
    "    year += 1\n",
    "\n",
    "suns"
   ]
  },
  {
   "cell_type": "code",
   "execution_count": 20,
   "metadata": {},
   "outputs": [
    {
     "data": {
      "text/plain": [
       "648"
      ]
     },
     "execution_count": 20,
     "metadata": {},
     "output_type": "execute_result"
    }
   ],
   "source": [
    "#Euler Project 20\n",
    "\n",
    "def fds(n):\n",
    "    num = n\n",
    "    while n > 1:\n",
    "    \n",
    "        num = num*(n-1)\n",
    "        n = n-1\n",
    "        \n",
    "    l = []\n",
    "    for i in range(0,len(str(num))):\n",
    "        l.append(int(str(num)[i]))\n",
    "    return sum(l)\n",
    "\n",
    "fds(100)"
   ]
  },
  {
   "cell_type": "code",
   "execution_count": 21,
   "metadata": {},
   "outputs": [
    {
     "data": {
      "text/plain": [
       "31626"
      ]
     },
     "execution_count": 21,
     "metadata": {},
     "output_type": "execute_result"
    }
   ],
   "source": [
    "#Euler Project 21\n",
    "def d(n):\n",
    "    x = n -1\n",
    "    nums = []\n",
    "    while x > 0:\n",
    "        if n%x==0:\n",
    "            nums.append(x)\n",
    "            x -= 1\n",
    "        else:\n",
    "            x -= 1\n",
    "    return sum(nums)\n",
    "\n",
    "results = []\n",
    "for i in range(0,10000):\n",
    "    a = d(i)\n",
    "    if (d(a) == i) and (a != i):\n",
    "        results.append(i)\n",
    "        results.append(a)\n",
    "    else:\n",
    "        continue\n",
    "answer = set(results)\n",
    "sum(answer)"
   ]
  },
  {
   "cell_type": "code",
   "execution_count": 22,
   "metadata": {},
   "outputs": [
    {
     "data": {
      "text/plain": [
       "871198282"
      ]
     },
     "execution_count": 22,
     "metadata": {},
     "output_type": "execute_result"
    }
   ],
   "source": [
    "#Euler Project 22\n",
    "\n",
    "r = open('resources\\\\names.txt','r')\n",
    "re = r.read()\n",
    "\n",
    "l = []\n",
    "for i in re.split(','):\n",
    "    l.append(i)\n",
    "l.sort()\n",
    "\n",
    "alpha = {'\"':0,'A':1,'B':2,'C':3,'D':4,'E':5,'F':6,'G':7,'H':8,'I':9,'J':10,'K':11,'L':12,'M':13,'N':14,'O':15,'P':16,\n",
    "        'Q':17,'R':18,'S':19,'T':20,'U':21,'V':22,'W':23,'X':24,'Y':25,'Z':26}\n",
    "\n",
    "answer = 0\n",
    "for o,t in enumerate(l):\n",
    "    x = 0\n",
    "    for letter in t:\n",
    "        x += alpha[letter]\n",
    "    tot = (o+1)*x\n",
    "    answer += tot\n",
    "\n",
    "answer"
   ]
  },
  {
   "cell_type": "code",
   "execution_count": 23,
   "metadata": {},
   "outputs": [
    {
     "data": {
      "text/plain": [
       "4179871"
      ]
     },
     "execution_count": 23,
     "metadata": {},
     "output_type": "execute_result"
    }
   ],
   "source": [
    "#Euler Project 23\n",
    "def d(n):\n",
    "    x = n -1\n",
    "    nums = []\n",
    "    while x > 0:\n",
    "        if n%x==0:\n",
    "            nums.append(x)\n",
    "            x -= 1\n",
    "        else:\n",
    "            x -= 1\n",
    "    return (sum(nums))>n\n",
    "\n",
    "abundant = []\n",
    "for num in range(1,28123):\n",
    "    if d(num):\n",
    "        abundant.append(num)\n",
    "    else:\n",
    "        continue\n",
    "\n",
    "abundant.sort(reverse=True)\n",
    "\n",
    "sums = []\n",
    "for a in abundant:\n",
    "    for i in range(0,len(abundant)):\n",
    "        if a+abundant[i]<28124:\n",
    "            sums.append(a+abundant[i])\n",
    "        else:\n",
    "            continue\n",
    "            \n",
    "sums = set(sums)\n",
    "\n",
    "non_sums = []\n",
    "for i in range(0,28124):\n",
    "    if i not in sums:\n",
    "        non_sums.append(i)\n",
    "    else:\n",
    "        continue\n",
    "sum(non_sums)"
   ]
  },
  {
   "cell_type": "code",
   "execution_count": 24,
   "metadata": {},
   "outputs": [
    {
     "name": "stdout",
     "output_type": "stream",
     "text": [
      "Possibilities: 3628800\n",
      "Digits left to fill: [9, 8, 7, 6, 5, 4, 3, 1, 0]\n",
      "-------\n",
      "Possibilities: 1088640\n",
      "Digits left to fill: [9, 8, 6, 5, 4, 3, 1, 0]\n",
      "-------\n",
      "Possibilities: 1008000\n",
      "Digits left to fill: [9, 6, 5, 4, 3, 1, 0]\n",
      "-------\n",
      "Possibilities: 1002960\n",
      "Digits left to fill: [9, 6, 5, 4, 1, 0]\n",
      "-------\n",
      "Possibilities: 1000080\n",
      "Digits left to fill: [6, 5, 4, 1, 0]\n",
      "-------\n",
      "Possibilities: 1000080\n",
      "Digits left to fill: [6, 5, 4, 0]\n",
      "-------\n",
      "Possibilities: 1000008\n",
      "Digits left to fill: [6, 4, 0]\n",
      "-------\n",
      "Possibilities: 1000002\n",
      "Digits left to fill: [6, 0]\n",
      "-------\n",
      "Possibilities: 1000000\n",
      "Digits left to fill: [0]\n",
      "-------\n",
      "Possibilities: 1000000\n",
      "Digits left to fill: []\n",
      "-------\n",
      "Final Answer: 2783915460\n"
     ]
    }
   ],
   "source": [
    "#Euler Project 24\n",
    "pf = [10,9,8,7,6,5,4,3,2,1]\n",
    "nums = [9,8,7,6,5,4,3,2,1,0]\n",
    "possibilities = 10*9*8*7*6*5*4*3*2*1\n",
    "max_num = max(nums)\n",
    "answer =  []\n",
    "final_answer = ''\n",
    "\n",
    "#print(possibilities)\n",
    "# first number\n",
    "for i in range(0,10):\n",
    "    \n",
    "    print(f'Possibilities: {possibilities}')\n",
    "    \n",
    "    pf[i] = 1\n",
    "    ec_flat = pf[0]*pf[1]*pf[2]*pf[3]*pf[4]*pf[5]*pf[6]*pf[7]*pf[8]*pf[9]\n",
    "\n",
    "    eliminated_combos = ec_flat\n",
    "    \n",
    "    nums_eliminated = 0\n",
    "    \n",
    "    while possibilities > 999999:\n",
    "        \n",
    "        if possibilities - eliminated_combos < 1000000:\n",
    "\n",
    "            answer.append(nums.pop(nums_eliminated))\n",
    "            print(f'Digits left to fill: {nums}')\n",
    "            #print(f'answer: {answer}')\n",
    "            break\n",
    "        else:\n",
    "            possibilities = possibilities-eliminated_combos\n",
    "            nums_eliminated += 1\n",
    "\n",
    "    print('-------')\n",
    "\n",
    "for dig in answer:\n",
    "    final_answer += str(dig)\n",
    "print(f'Final Answer: {final_answer}')"
   ]
  },
  {
   "cell_type": "code",
   "execution_count": 25,
   "metadata": {},
   "outputs": [
    {
     "name": "stdout",
     "output_type": "stream",
     "text": [
      "4782\n"
     ]
    }
   ],
   "source": [
    "#Euler Project 25\n",
    "\n",
    "l = [1,1]\n",
    "\n",
    "for num in range(0,10000):\n",
    "    x = l[len(l)-1]+l[len(l)-2]\n",
    "    l.append(x)\n",
    "    if len(str(l[-1])) == 1000:\n",
    "        print(len(l))\n",
    "        break"
   ]
  },
  {
   "cell_type": "code",
   "execution_count": 26,
   "metadata": {},
   "outputs": [],
   "source": [
    "#Euler Project 26"
   ]
  },
  {
   "cell_type": "code",
   "execution_count": 27,
   "metadata": {},
   "outputs": [],
   "source": [
    "#Euler Project 27"
   ]
  },
  {
   "cell_type": "code",
   "execution_count": 28,
   "metadata": {},
   "outputs": [
    {
     "data": {
      "text/plain": [
       "669171001"
      ]
     },
     "execution_count": 28,
     "metadata": {},
     "output_type": "execute_result"
    }
   ],
   "source": [
    "#Euler Project 28\n",
    "\n",
    "def corner_sum(x):\n",
    "    top_right = x**2\n",
    "    top_left = top_right - (x-1)\n",
    "    bottom_left = top_left - (x-1)\n",
    "    bottom_right = bottom_left - (x-1)\n",
    "    tot = top_right+top_left+bottom_left+bottom_right\n",
    "    return tot\n",
    "\n",
    "summary = 1\n",
    "for i in range(3,1002,2):\n",
    "    summary += corner_sum(i)\n",
    "    \n",
    "summary"
   ]
  },
  {
   "cell_type": "code",
   "execution_count": 29,
   "metadata": {},
   "outputs": [
    {
     "name": "stdout",
     "output_type": "stream",
     "text": [
      "9183\n"
     ]
    }
   ],
   "source": [
    "#Euler Project 29\n",
    "\n",
    "digits = []\n",
    "\n",
    "a = 2\n",
    "\n",
    "while a < 101:\n",
    "\n",
    "    for i in range(2,101):\n",
    "        n = a**i\n",
    "\n",
    "        if n in digits:\n",
    "            continue\n",
    "        else:\n",
    "            digits.append(n)\n",
    "    a += 1\n",
    "\n",
    "digits.sort()\n",
    "print(len(digits))"
   ]
  },
  {
   "cell_type": "code",
   "execution_count": 30,
   "metadata": {},
   "outputs": [
    {
     "name": "stdout",
     "output_type": "stream",
     "text": [
      "[0, 1, 4150, 4151, 54748, 92727, 93084, 194979]\n",
      "443839\n"
     ]
    }
   ],
   "source": [
    "#Euler Project 30\n",
    "\n",
    "answer = []\n",
    "for num in range(0,1000000):\n",
    "    x = 0\n",
    "    for dig in str(num):\n",
    "        x += (int(dig))**5\n",
    "    if x == num:\n",
    "        answer.append(num)\n",
    "print(answer)\n",
    "print(sum(answer)-1)"
   ]
  },
  {
   "cell_type": "code",
   "execution_count": 31,
   "metadata": {},
   "outputs": [],
   "source": [
    "#Euler Project 31"
   ]
  },
  {
   "cell_type": "code",
   "execution_count": 32,
   "metadata": {},
   "outputs": [
    {
     "data": {
      "text/plain": [
       "45228"
      ]
     },
     "execution_count": 32,
     "metadata": {},
     "output_type": "execute_result"
    }
   ],
   "source": [
    "#Euler Project 32\n",
    "\n",
    "pan = [1,2,3,4,5,6,7,8,9]\n",
    "\n",
    "x = 0\n",
    "y = 0\n",
    "\n",
    "combos = []\n",
    "prods = []\n",
    "total = []\n",
    "\n",
    "\n",
    "while y < 2000:\n",
    "    x = 0\n",
    "    while x < 2000:\n",
    "        prod = x*y\n",
    "        \n",
    "        if len(str(x)+str(y)+str(prod))==9:\n",
    "            total = []\n",
    "            for i in str(x):\n",
    "                total.append(int(i))\n",
    "            for i in str(y):\n",
    "                total.append(int(i))    \n",
    "            for i in str(prod):\n",
    "                total.append(int(i))\n",
    "\n",
    "            total.sort()\n",
    "            if total == pan:\n",
    "                if prod in prods:\n",
    "                    x += 1\n",
    "                    pass\n",
    "                else:\n",
    "                    combos.append((x,y,prod))\n",
    "                    prods.append(prod)\n",
    "                    x += 1\n",
    "            else:\n",
    "                x += 1\n",
    "                continue\n",
    "        else:\n",
    "            total = []\n",
    "            x += 1\n",
    "    y += 1\n",
    "\n",
    "sum(prods)"
   ]
  },
  {
   "cell_type": "code",
   "execution_count": 33,
   "metadata": {},
   "outputs": [
    {
     "name": "stdout",
     "output_type": "stream",
     "text": [
      "387296\n",
      "38729600\n",
      "1.0\n",
      "100.0\n"
     ]
    }
   ],
   "source": [
    "#Euler Project 33\n",
    "\n",
    "digits = []\n",
    "\n",
    "a = 10\n",
    "\n",
    "while a < 101:\n",
    "\n",
    "    for i in range(11,100):\n",
    "        if a == i:\n",
    "            continue\n",
    "        else:\n",
    "            n = (str(a),str(i))\n",
    "            digits.append(n)\n",
    "    a += 1\n",
    "\n",
    "fractions = []\n",
    "\n",
    "for i in digits:\n",
    "    if (i[0][0] == i[1][0] or i[0][0] == i[1][1]) or (i[0][1] == i[1][0] or i[0][1] == i[1][1]):\n",
    "        fractions.append(i)\n",
    "\n",
    "new = []\n",
    "for i in fractions:\n",
    "    a = i[0][0]\n",
    "    b = i[0][1]\n",
    "    c = i[1][0]\n",
    "    d = i[1][1]\n",
    "    \n",
    "    \n",
    "    if a == c:\n",
    "        n = (b,d)\n",
    "    elif a == d:\n",
    "        n = (b,c)\n",
    "    elif b == c:\n",
    "        n = (a,d)\n",
    "    else:\n",
    "        n = (a,c)\n",
    "    \n",
    "    \n",
    "    if n[0]== '0' or n[1] == '0':\n",
    "        continue\n",
    "    \n",
    "    else:\n",
    "        small = int(n[0])/int(n[1])\n",
    "        large = int(i[0])/int(i[1])\n",
    "\n",
    "        if small == large and i[0][1]!='0' and i[0]<i[1]:\n",
    "            new.append((int(i[0]),int(i[1])))\n",
    "        else:\n",
    "            continue\n",
    "        \n",
    "numerator = 1\n",
    "denominator = 1\n",
    "\n",
    "for tup in new:\n",
    "    numerator *= tup[0]\n",
    "    denominator *= tup[1]\n",
    "    \n",
    "print(f'{numerator}')\n",
    "print(f'{denominator}')\n",
    "\n",
    "for num in range(100,50,-1):\n",
    "\n",
    "    if numerator%num==0 and denominator%num==0:\n",
    "        numerator /= num\n",
    "        denominator /= num\n",
    "    else:\n",
    "        continue\n",
    "print(numerator)\n",
    "print(denominator)"
   ]
  },
  {
   "cell_type": "code",
   "execution_count": 34,
   "metadata": {},
   "outputs": [
    {
     "data": {
      "text/plain": [
       "40730"
      ]
     },
     "execution_count": 34,
     "metadata": {},
     "output_type": "execute_result"
    }
   ],
   "source": [
    "#Euler Project 34\n",
    "'''\n",
    "Fact(n) finds the factorial for n\n",
    "\n",
    "'''\n",
    "def Fact(n):\n",
    "    if n == 0:\n",
    "        return 0\n",
    "    else:\n",
    "        f = 1\n",
    "    \n",
    "        while n > 1:\n",
    "            f = n*f\n",
    "            n -= 1\n",
    "        return f\n",
    "\n",
    "\n",
    "answers = []\n",
    "dic = {}\n",
    "for n in range(0,10):\n",
    "    dic[str(n)] = Fact(n)\n",
    "dic['0'] = 1\n",
    "\n",
    "for num in range(1000000,3,-1):\n",
    "    \n",
    "    \n",
    "    ans = 0\n",
    "    l = sorted(str(num),reverse=True)\n",
    "    \n",
    "    for i in l:\n",
    "        if ans <= num:\n",
    "            ans += dic[i]\n",
    "        else:\n",
    "            break\n",
    "    if num != ans:\n",
    "        continue\n",
    "    else:\n",
    "        answers.append(num)\n",
    "sum(answers)"
   ]
  },
  {
   "cell_type": "code",
   "execution_count": 35,
   "metadata": {},
   "outputs": [],
   "source": [
    "#Euler Project 35"
   ]
  },
  {
   "cell_type": "code",
   "execution_count": 36,
   "metadata": {},
   "outputs": [],
   "source": [
    "#Euler Project 36"
   ]
  },
  {
   "cell_type": "code",
   "execution_count": 37,
   "metadata": {},
   "outputs": [],
   "source": [
    "#Euler Project 37"
   ]
  },
  {
   "cell_type": "code",
   "execution_count": 38,
   "metadata": {},
   "outputs": [],
   "source": [
    "#Euler Project 38"
   ]
  },
  {
   "cell_type": "code",
   "execution_count": 39,
   "metadata": {},
   "outputs": [
    {
     "data": {
      "text/plain": [
       "840"
      ]
     },
     "execution_count": 39,
     "metadata": {},
     "output_type": "execute_result"
    }
   ],
   "source": [
    "#Euler Project 39\n",
    "\n",
    "y = 1\n",
    "x = 1\n",
    "ps = []\n",
    "\n",
    "while y < 500:\n",
    "    x = 1\n",
    "    while x < 500:\n",
    "        z = (x**2 + y**2)**.5\n",
    "        if z%1 != 0:\n",
    "            x += 1\n",
    "            continue\n",
    "        else:\n",
    "            ps.append((sum([x,y,z])))\n",
    "            x += 1\n",
    "    y += 1\n",
    "\n",
    "int(max(set(ps), key=ps.count))"
   ]
  },
  {
   "cell_type": "code",
   "execution_count": null,
   "metadata": {},
   "outputs": [],
   "source": []
  }
 ],
 "metadata": {
  "kernelspec": {
   "display_name": "Python 3",
   "language": "python",
   "name": "python3"
  },
  "language_info": {
   "codemirror_mode": {
    "name": "ipython",
    "version": 3
   },
   "file_extension": ".py",
   "mimetype": "text/x-python",
   "name": "python",
   "nbconvert_exporter": "python",
   "pygments_lexer": "ipython3",
   "version": "3.6.13"
  }
 },
 "nbformat": 4,
 "nbformat_minor": 4
}
